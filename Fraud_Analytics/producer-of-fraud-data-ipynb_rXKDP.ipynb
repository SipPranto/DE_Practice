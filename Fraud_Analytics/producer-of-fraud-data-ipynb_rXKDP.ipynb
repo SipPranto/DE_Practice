{
 "cells": [
  {
   "cell_type": "code",
   "execution_count": 0,
   "metadata": {
    "application/vnd.databricks.v1+cell": {
     "cellMetadata": {
      "byteLimit": 2048000,
      "rowLimit": 10000
     },
     "inputWidgets": {},
     "nuid": "1b3c6e47-80bb-47e9-ba82-48e4ae76e5cf",
     "showTitle": false,
     "tableResultSettingsMap": {},
     "title": ""
    }
   },
   "outputs": [
    {
     "output_type": "stream",
     "name": "stdout",
     "output_type": "stream",
     "text": [
      "Python interpreter will be restarted.\nCollecting confluent_kafka\n  Downloading confluent_kafka-2.8.0-cp39-cp39-manylinux_2_28_x86_64.whl (3.8 MB)\nInstalling collected packages: confluent-kafka\nSuccessfully installed confluent-kafka-2.8.0\nPython interpreter will be restarted.\n"
     ]
    }
   ],
   "source": [
    "pip install confluent_kafka"
   ]
  },
  {
   "cell_type": "code",
   "execution_count": 0,
   "metadata": {
    "application/vnd.databricks.v1+cell": {
     "cellMetadata": {
      "byteLimit": 2048000,
      "rowLimit": 10000
     },
     "inputWidgets": {},
     "nuid": "8f7a74c3-cf4f-4a4d-87b2-7e516a2dddf1",
     "showTitle": false,
     "tableResultSettingsMap": {},
     "title": ""
    }
   },
   "outputs": [
    {
     "output_type": "stream",
     "name": "stdout",
     "output_type": "stream",
     "text": [
      "Python interpreter will be restarted.\nCollecting faker\n  Downloading Faker-35.2.0-py3-none-any.whl (1.9 MB)\nRequirement already satisfied: python-dateutil>=2.4 in /databricks/python3/lib/python3.9/site-packages (from faker) (2.8.2)\nRequirement already satisfied: typing-extensions in /databricks/python3/lib/python3.9/site-packages (from faker) (4.1.1)\nRequirement already satisfied: six>=1.5 in /databricks/python3/lib/python3.9/site-packages (from python-dateutil>=2.4->faker) (1.16.0)\nInstalling collected packages: faker\nSuccessfully installed faker-35.2.0\nPython interpreter will be restarted.\n"
     ]
    }
   ],
   "source": [
    "pip install faker"
   ]
  },
  {
   "cell_type": "code",
   "execution_count": 0,
   "metadata": {
    "application/vnd.databricks.v1+cell": {
     "cellMetadata": {
      "byteLimit": 2048000,
      "rowLimit": 10000
     },
     "inputWidgets": {},
     "nuid": "83631242-b66c-4a41-8ba5-c623beda42ba",
     "showTitle": false,
     "tableResultSettingsMap": {},
     "title": ""
    }
   },
   "outputs": [],
   "source": [
    "from confluent_kafka import Producer\n",
    "import json\n",
    "import random\n",
    "from faker import Faker\n",
    "import time "
   ]
  },
  {
   "cell_type": "code",
   "execution_count": 0,
   "metadata": {
    "application/vnd.databricks.v1+cell": {
     "cellMetadata": {
      "byteLimit": 2048000,
      "rowLimit": 10000
     },
     "inputWidgets": {},
     "nuid": "01277b51-b450-4132-8cb5-85e500c360fb",
     "showTitle": false,
     "tableResultSettingsMap": {},
     "title": ""
    }
   },
   "outputs": [],
   "source": [
    "fake = Faker()\n",
    "conf = {\n",
    "    'bootstrap.servers': 'pkc-921jm.us-east-2.aws.confluent.cloud:9092',  # Corrected Port\n",
    "    'security.protocol': 'SASL_SSL',\n",
    "    'sasl.mechanism': 'PLAIN',\n",
    "    'sasl.username': '7R27XZ2QWW7ON3QI',  # Replace with new key if needed\n",
    "    'sasl.password': '5J2bmoSE4+G4oRkTe1ApixLjPRH+yLNRlHLv6Ept8MQ29S6YDeGMgZngVjS9f2wZ'  # Replace securely\n",
    "}"
   ]
  },
  {
   "cell_type": "code",
   "execution_count": 0,
   "metadata": {
    "application/vnd.databricks.v1+cell": {
     "cellMetadata": {
      "byteLimit": 2048000,
      "rowLimit": 10000
     },
     "inputWidgets": {},
     "nuid": "83d02f19-b7de-4c59-b511-fbf3d79c4833",
     "showTitle": false,
     "tableResultSettingsMap": {},
     "title": ""
    }
   },
   "outputs": [
    {
     "output_type": "stream",
     "name": "stdout",
     "output_type": "stream",
     "text": [
      "msg delivered to txddata,[{5}],<cimpl.Message object at 0x7fdda1e00140>\nmsg delivered to txddata,[{4}],<cimpl.Message object at 0x7fdda1e00140>\nmsg delivered to txddata,[{0}],<cimpl.Message object at 0x7fdda1f3ce40>\nmsg delivered to txddata,[{5}],<cimpl.Message object at 0x7fdda1f3ce40>\nmsg delivered to txddata,[{3}],<cimpl.Message object at 0x7fdda1f3ce40>\nmsg delivered to txddata,[{3}],<cimpl.Message object at 0x7fdda1f3ce40>\nmsg delivered to txddata,[{1}],<cimpl.Message object at 0x7fdda1f3ce40>\nmsg delivered to txddata,[{3}],<cimpl.Message object at 0x7fdda1f3ce40>\nmsg delivered to txddata,[{1}],<cimpl.Message object at 0x7fdda1f3ce40>\nmsg delivered to txddata,[{4}],<cimpl.Message object at 0x7fdda1f3ce40>\nmsg delivered to txddata,[{3}],<cimpl.Message object at 0x7fdda1f3ce40>\nmsg delivered to txddata,[{2}],<cimpl.Message object at 0x7fdda1f3ce40>\nmsg delivered to txddata,[{0}],<cimpl.Message object at 0x7fdda1f3ce40>\nmsg delivered to txddata,[{0}],<cimpl.Message object at 0x7fdda1f3ce40>\nmsg delivered to txddata,[{4}],<cimpl.Message object at 0x7fdda1f3ce40>\nmsg delivered to txddata,[{4}],<cimpl.Message object at 0x7fdda1f3ce40>\nmsg delivered to txddata,[{5}],<cimpl.Message object at 0x7fdda1f3ce40>\nmsg delivered to txddata,[{4}],<cimpl.Message object at 0x7fdda1f3ce40>\nmsg delivered to txddata,[{5}],<cimpl.Message object at 0x7fdda1f3ce40>\nmsg delivered to txddata,[{0}],<cimpl.Message object at 0x7fdda1f3ce40>\nmsg delivered to txddata,[{1}],<cimpl.Message object at 0x7fdda1f3ce40>\nmsg delivered to txddata,[{0}],<cimpl.Message object at 0x7fdda1f3ce40>\nmsg delivered to txddata,[{3}],<cimpl.Message object at 0x7fdda1f3ce40>\nmsg delivered to txddata,[{4}],<cimpl.Message object at 0x7fdda1f3ce40>\nmsg delivered to txddata,[{1}],<cimpl.Message object at 0x7fdda1f3ce40>\nmsg delivered to txddata,[{4}],<cimpl.Message object at 0x7fdda1f3ce40>\nmsg delivered to txddata,[{5}],<cimpl.Message object at 0x7fdda1f3ce40>\nmsg delivered to txddata,[{5}],<cimpl.Message object at 0x7fdda1f3ce40>\nmsg delivered to txddata,[{4}],<cimpl.Message object at 0x7fdda1f3ce40>\nmsg delivered to txddata,[{2}],<cimpl.Message object at 0x7fdda1f3ce40>\nmsg delivered to txddata,[{2}],<cimpl.Message object at 0x7fdda1f3ce40>\nmsg delivered to txddata,[{5}],<cimpl.Message object at 0x7fdda1f3ce40>\nmsg delivered to txddata,[{3}],<cimpl.Message object at 0x7fdda1f3ce40>\nmsg delivered to txddata,[{2}],<cimpl.Message object at 0x7fdda1f3ce40>\nmsg delivered to txddata,[{5}],<cimpl.Message object at 0x7fdda1f3ce40>\nmsg delivered to txddata,[{1}],<cimpl.Message object at 0x7fdda1f3ce40>\nmsg delivered to txddata,[{3}],<cimpl.Message object at 0x7fdda1f3ce40>\nmsg delivered to txddata,[{4}],<cimpl.Message object at 0x7fdda1f3ce40>\nmsg delivered to txddata,[{2}],<cimpl.Message object at 0x7fdda1f3ce40>\nmsg delivered to txddata,[{2}],<cimpl.Message object at 0x7fdda1f3ce40>\nmsg delivered to txddata,[{3}],<cimpl.Message object at 0x7fdda1f3ce40>\nmsg delivered to txddata,[{1}],<cimpl.Message object at 0x7fdda1f3ce40>\nmsg delivered to txddata,[{5}],<cimpl.Message object at 0x7fdda1f3ce40>\nmsg delivered to txddata,[{4}],<cimpl.Message object at 0x7fdda1f3ce40>\nmsg delivered to txddata,[{5}],<cimpl.Message object at 0x7fdda1f3ce40>\nmsg delivered to txddata,[{4}],<cimpl.Message object at 0x7fdda1f3ce40>\nmsg delivered to txddata,[{3}],<cimpl.Message object at 0x7fdda1f3ce40>\nmsg delivered to txddata,[{2}],<cimpl.Message object at 0x7fdda1f3ce40>\nmsg delivered to txddata,[{3}],<cimpl.Message object at 0x7fdda1f3ce40>\nmsg delivered to txddata,[{2}],<cimpl.Message object at 0x7fdda1f3ce40>\nmsg delivered to txddata,[{5}],<cimpl.Message object at 0x7fdda1f3ce40>\nmsg delivered to txddata,[{4}],<cimpl.Message object at 0x7fdda1f3ce40>\nmsg delivered to txddata,[{0}],<cimpl.Message object at 0x7fdda1f3ce40>\nmsg delivered to txddata,[{2}],<cimpl.Message object at 0x7fdda1f3ce40>\nmsg delivered to txddata,[{4}],<cimpl.Message object at 0x7fdda1f3ce40>\nmsg delivered to txddata,[{3}],<cimpl.Message object at 0x7fdda1f3ce40>\nmsg delivered to txddata,[{5}],<cimpl.Message object at 0x7fdda1f3ce40>\nmsg delivered to txddata,[{0}],<cimpl.Message object at 0x7fdda1f3ce40>\nmsg delivered to txddata,[{2}],<cimpl.Message object at 0x7fdda1f3ce40>\nmsg delivered to txddata,[{2}],<cimpl.Message object at 0x7fdda1f3ce40>\nmsg delivered to txddata,[{5}],<cimpl.Message object at 0x7fdda1f3ce40>\nmsg delivered to txddata,[{0}],<cimpl.Message object at 0x7fdda1f3ce40>\nmsg delivered to txddata,[{3}],<cimpl.Message object at 0x7fdda1f3ce40>\nmsg delivered to txddata,[{3}],<cimpl.Message object at 0x7fdda1f3ce40>\nmsg delivered to txddata,[{2}],<cimpl.Message object at 0x7fdda1f3ce40>\nmsg delivered to txddata,[{1}],<cimpl.Message object at 0x7fdda1f3ce40>\nmsg delivered to txddata,[{5}],<cimpl.Message object at 0x7fdda1f3ce40>\nmsg delivered to txddata,[{1}],<cimpl.Message object at 0x7fdda1f3ce40>\nmsg delivered to txddata,[{4}],<cimpl.Message object at 0x7fdda1f3ce40>\nmsg delivered to txddata,[{3}],<cimpl.Message object at 0x7fdda1f3ce40>\nmsg delivered to txddata,[{4}],<cimpl.Message object at 0x7fdda1f3ce40>\nmsg delivered to txddata,[{3}],<cimpl.Message object at 0x7fdda1f3ce40>\nmsg delivered to txddata,[{5}],<cimpl.Message object at 0x7fdda1f3ce40>\nmsg delivered to txddata,[{3}],<cimpl.Message object at 0x7fdda1f3ce40>\nmsg delivered to txddata,[{0}],<cimpl.Message object at 0x7fdda1f3ce40>\nmsg delivered to txddata,[{5}],<cimpl.Message object at 0x7fdda1f3ce40>\nmsg delivered to txddata,[{4}],<cimpl.Message object at 0x7fdda1f3ce40>\nmsg delivered to txddata,[{4}],<cimpl.Message object at 0x7fdda1f3ce40>\nmsg delivered to txddata,[{5}],<cimpl.Message object at 0x7fdda1f3ce40>\nmsg delivered to txddata,[{0}],<cimpl.Message object at 0x7fdda1f3ce40>\nmsg delivered to txddata,[{3}],<cimpl.Message object at 0x7fdda1f3ce40>\nmsg delivered to txddata,[{1}],<cimpl.Message object at 0x7fdda1f3ce40>\nmsg delivered to txddata,[{4}],<cimpl.Message object at 0x7fdda1f3ce40>\nmsg delivered to txddata,[{3}],<cimpl.Message object at 0x7fdda1f3ce40>\nmsg delivered to txddata,[{2}],<cimpl.Message object at 0x7fdda1f3ce40>\nmsg delivered to txddata,[{3}],<cimpl.Message object at 0x7fdda1f3ce40>\nmsg delivered to txddata,[{2}],<cimpl.Message object at 0x7fdda1f3ce40>\nmsg delivered to txddata,[{3}],<cimpl.Message object at 0x7fdda1f3ce40>\nmsg delivered to txddata,[{0}],<cimpl.Message object at 0x7fdda1f3ce40>\nmsg delivered to txddata,[{2}],<cimpl.Message object at 0x7fdda1f3ce40>\nmsg delivered to txddata,[{0}],<cimpl.Message object at 0x7fdda1f3ce40>\nmsg delivered to txddata,[{3}],<cimpl.Message object at 0x7fdda1f3ce40>\nmsg delivered to txddata,[{4}],<cimpl.Message object at 0x7fdda1f3ce40>\nmsg delivered to txddata,[{0}],<cimpl.Message object at 0x7fdda1f3ce40>\nmsg delivered to txddata,[{4}],<cimpl.Message object at 0x7fdda1f3ce40>\nmsg delivered to txddata,[{3}],<cimpl.Message object at 0x7fdda1f3ce40>\nmsg delivered to txddata,[{0}],<cimpl.Message object at 0x7fdda1f3ce40>\nmsg delivered to txddata,[{0}],<cimpl.Message object at 0x7fdda1f3ce40>\nmsg delivered to txddata,[{0}],<cimpl.Message object at 0x7fdda1f3ce40>\nmsg delivered to txddata,[{4}],<cimpl.Message object at 0x7fdda1f3ce40>\nmsg delivered to txddata,[{0}],<cimpl.Message object at 0x7fdda1f3ce40>\nmsg delivered to txddata,[{4}],<cimpl.Message object at 0x7fdda1f3ce40>\nmsg delivered to txddata,[{4}],<cimpl.Message object at 0x7fdda1f3ce40>\nmsg delivered to txddata,[{1}],<cimpl.Message object at 0x7fdda1f3ce40>\nmsg delivered to txddata,[{1}],<cimpl.Message object at 0x7fdda1f3ce40>\nmsg delivered to txddata,[{4}],<cimpl.Message object at 0x7fdda1f3ce40>\nmsg delivered to txddata,[{5}],<cimpl.Message object at 0x7fdda1f3ce40>\nmsg delivered to txddata,[{3}],<cimpl.Message object at 0x7fdda1f3ce40>\nmsg delivered to txddata,[{3}],<cimpl.Message object at 0x7fdda1f3ce40>\nmsg delivered to txddata,[{5}],<cimpl.Message object at 0x7fdda1f3ce40>\nmsg delivered to txddata,[{0}],<cimpl.Message object at 0x7fdda1f3ce40>\nmsg delivered to txddata,[{2}],<cimpl.Message object at 0x7fdda1f3ce40>\nmsg delivered to txddata,[{5}],<cimpl.Message object at 0x7fdda1f3ce40>\nmsg delivered to txddata,[{3}],<cimpl.Message object at 0x7fdda1f3ce40>\nmsg delivered to txddata,[{4}],<cimpl.Message object at 0x7fdda1f3ce40>\nmsg delivered to txddata,[{3}],<cimpl.Message object at 0x7fdda1f3ce40>\nmsg delivered to txddata,[{3}],<cimpl.Message object at 0x7fdda1f3ce40>\nmsg delivered to txddata,[{2}],<cimpl.Message object at 0x7fdda1f3ce40>\nmsg delivered to txddata,[{2}],<cimpl.Message object at 0x7fdda1f3ce40>\nmsg delivered to txddata,[{3}],<cimpl.Message object at 0x7fdda1f3ce40>\nmsg delivered to txddata,[{2}],<cimpl.Message object at 0x7fdda1f3ce40>\nmsg delivered to txddata,[{3}],<cimpl.Message object at 0x7fdda1f3ce40>\nmsg delivered to txddata,[{2}],<cimpl.Message object at 0x7fdda1f3ce40>\nmsg delivered to txddata,[{3}],<cimpl.Message object at 0x7fdda1f3ce40>\nmsg delivered to txddata,[{5}],<cimpl.Message object at 0x7fdda1f3ce40>\nmsg delivered to txddata,[{3}],<cimpl.Message object at 0x7fdda1f3ce40>\nmsg delivered to txddata,[{2}],<cimpl.Message object at 0x7fdda1f3ce40>\nmsg delivered to txddata,[{3}],<cimpl.Message object at 0x7fdda1f3ce40>\nmsg delivered to txddata,[{5}],<cimpl.Message object at 0x7fdda1f3ce40>\nmsg delivered to txddata,[{0}],<cimpl.Message object at 0x7fdda1f3ce40>\nmsg delivered to txddata,[{2}],<cimpl.Message object at 0x7fdda1f3ce40>\nmsg delivered to txddata,[{3}],<cimpl.Message object at 0x7fdda1f3ce40>\nmsg delivered to txddata,[{4}],<cimpl.Message object at 0x7fdda1f3ce40>\nmsg delivered to txddata,[{4}],<cimpl.Message object at 0x7fdda1f3ce40>\nmsg delivered to txddata,[{1}],<cimpl.Message object at 0x7fdda1f3ce40>\nmsg delivered to txddata,[{2}],<cimpl.Message object at 0x7fdda1f3ce40>\nmsg delivered to txddata,[{4}],<cimpl.Message object at 0x7fdda1f3ce40>\nmsg delivered to txddata,[{4}],<cimpl.Message object at 0x7fdda1f3ce40>\nmsg delivered to txddata,[{0}],<cimpl.Message object at 0x7fdda1f3ce40>\nmsg delivered to txddata,[{3}],<cimpl.Message object at 0x7fdda1f3ce40>\nmsg delivered to txddata,[{0}],<cimpl.Message object at 0x7fdda1f3ce40>\nmsg delivered to txddata,[{5}],<cimpl.Message object at 0x7fdda1f3ce40>\nmsg delivered to txddata,[{3}],<cimpl.Message object at 0x7fdda1f3ce40>\nmsg delivered to txddata,[{0}],<cimpl.Message object at 0x7fdda1f3ce40>\nmsg delivered to txddata,[{4}],<cimpl.Message object at 0x7fdda1f3ce40>\nmsg delivered to txddata,[{2}],<cimpl.Message object at 0x7fdda1f3ce40>\nmsg delivered to txddata,[{0}],<cimpl.Message object at 0x7fdda1f3ce40>\nmsg delivered to txddata,[{5}],<cimpl.Message object at 0x7fdda1f3ce40>\nmsg delivered to txddata,[{2}],<cimpl.Message object at 0x7fdda1f3ce40>\nmsg delivered to txddata,[{2}],<cimpl.Message object at 0x7fdda1f3ce40>\nmsg delivered to txddata,[{3}],<cimpl.Message object at 0x7fdda1f3ce40>\nmsg delivered to txddata,[{2}],<cimpl.Message object at 0x7fdda1f3ce40>\nmsg delivered to txddata,[{2}],<cimpl.Message object at 0x7fdda1f3ce40>\nmsg delivered to txddata,[{5}],<cimpl.Message object at 0x7fdda1f3ce40>\nmsg delivered to txddata,[{0}],<cimpl.Message object at 0x7fdda1f3ce40>\nmsg delivered to txddata,[{0}],<cimpl.Message object at 0x7fdda1f3ce40>\nmsg delivered to txddata,[{2}],<cimpl.Message object at 0x7fdda1f3ce40>\nmsg delivered to txddata,[{1}],<cimpl.Message object at 0x7fdda1f3ce40>\nmsg delivered to txddata,[{0}],<cimpl.Message object at 0x7fdda1f3ce40>\nmsg delivered to txddata,[{1}],<cimpl.Message object at 0x7fdda1f3ce40>\nmsg delivered to txddata,[{1}],<cimpl.Message object at 0x7fdda1f3ce40>\nmsg delivered to txddata,[{5}],<cimpl.Message object at 0x7fdda1f3ce40>\nmsg delivered to txddata,[{0}],<cimpl.Message object at 0x7fdda1f3ce40>\nmsg delivered to txddata,[{0}],<cimpl.Message object at 0x7fdda1f3ce40>\nmsg delivered to txddata,[{4}],<cimpl.Message object at 0x7fdda1f3ce40>\nmsg delivered to txddata,[{5}],<cimpl.Message object at 0x7fdda1f3ce40>\nmsg delivered to txddata,[{2}],<cimpl.Message object at 0x7fdda1f3ce40>\nmsg delivered to txddata,[{0}],<cimpl.Message object at 0x7fdda1f3ce40>\nmsg delivered to txddata,[{2}],<cimpl.Message object at 0x7fdda1f3ce40>\nmsg delivered to txddata,[{4}],<cimpl.Message object at 0x7fdda1e01d40>\nmsg delivered to txddata,[{2}],<cimpl.Message object at 0x7fdda1e01d40>\nmsg delivered to txddata,[{5}],<cimpl.Message object at 0x7fdda1e01d40>\nmsg delivered to txddata,[{5}],<cimpl.Message object at 0x7fdda1e01d40>\nmsg delivered to txddata,[{1}],<cimpl.Message object at 0x7fdda1e01d40>\nmsg delivered to txddata,[{0}],<cimpl.Message object at 0x7fdda1e01d40>\nmsg delivered to txddata,[{4}],<cimpl.Message object at 0x7fdda1e01d40>\nmsg delivered to txddata,[{1}],<cimpl.Message object at 0x7fdda1e01d40>\nmsg delivered to txddata,[{0}],<cimpl.Message object at 0x7fdda1e01d40>\nmsg delivered to txddata,[{5}],<cimpl.Message object at 0x7fdda1e01d40>\nmsg delivered to txddata,[{5}],<cimpl.Message object at 0x7fdda1e01d40>\nmsg delivered to txddata,[{4}],<cimpl.Message object at 0x7fdda1e01d40>\nmsg delivered to txddata,[{2}],<cimpl.Message object at 0x7fdda1e01d40>\nmsg delivered to txddata,[{5}],<cimpl.Message object at 0x7fdda1e01d40>\nmsg delivered to txddata,[{2}],<cimpl.Message object at 0x7fdda1e01d40>\nmsg delivered to txddata,[{0}],<cimpl.Message object at 0x7fdda1e01d40>\nmsg delivered to txddata,[{3}],<cimpl.Message object at 0x7fdda1e01d40>\nmsg delivered to txddata,[{1}],<cimpl.Message object at 0x7fdda1e01d40>\nmsg delivered to txddata,[{3}],<cimpl.Message object at 0x7fdda1e01d40>\nmsg delivered to txddata,[{3}],<cimpl.Message object at 0x7fdda1e01d40>\nmsg delivered to txddata,[{3}],<cimpl.Message object at 0x7fdda1e01d40>\nmsg delivered to txddata,[{0}],<cimpl.Message object at 0x7fdda1e01d40>\nmsg delivered to txddata,[{1}],<cimpl.Message object at 0x7fdda1e01ec0>\nmsg delivered to txddata,[{0}],<cimpl.Message object at 0x7fdda1e01ec0>\nmsg delivered to txddata,[{1}],<cimpl.Message object at 0x7fdda1e01ec0>\nmsg delivered to txddata,[{1}],<cimpl.Message object at 0x7fdda1e01ec0>\nmsg delivered to txddata,[{5}],<cimpl.Message object at 0x7fdda1e01ec0>\nmsg delivered to txddata,[{3}],<cimpl.Message object at 0x7fdda1e01ec0>\nmsg delivered to txddata,[{4}],<cimpl.Message object at 0x7fdda1e01ec0>\nmsg delivered to txddata,[{2}],<cimpl.Message object at 0x7fdda1e01ec0>\nmsg delivered to txddata,[{3}],<cimpl.Message object at 0x7fdda1e01ec0>\nmsg delivered to txddata,[{2}],<cimpl.Message object at 0x7fdda1e01ec0>\nmsg delivered to txddata,[{5}],<cimpl.Message object at 0x7fdda1e01ec0>\nmsg delivered to txddata,[{1}],<cimpl.Message object at 0x7fdda1e01ec0>\nmsg delivered to txddata,[{3}],<cimpl.Message object at 0x7fdda1e01ec0>\nmsg delivered to txddata,[{0}],<cimpl.Message object at 0x7fdda1e01ec0>\nmsg delivered to txddata,[{3}],<cimpl.Message object at 0x7fdda1e01ec0>\nmsg delivered to txddata,[{3}],<cimpl.Message object at 0x7fdda1e01ec0>\nmsg delivered to txddata,[{0}],<cimpl.Message object at 0x7fdda1e01ec0>\nmsg delivered to txddata,[{1}],<cimpl.Message object at 0x7fdda1e01ec0>\nmsg delivered to txddata,[{2}],<cimpl.Message object at 0x7fdda1e01ec0>\nmsg delivered to txddata,[{5}],<cimpl.Message object at 0x7fdda1e01ec0>\nmsg delivered to txddata,[{2}],<cimpl.Message object at 0x7fdda1e01ec0>\nmsg delivered to txddata,[{2}],<cimpl.Message object at 0x7fdda1e01ec0>\nmsg delivered to txddata,[{3}],<cimpl.Message object at 0x7fdda1e01ec0>\nmsg delivered to txddata,[{5}],<cimpl.Message object at 0x7fdda1e01ec0>\nmsg delivered to txddata,[{2}],<cimpl.Message object at 0x7fdda1e01ec0>\nmsg delivered to txddata,[{0}],<cimpl.Message object at 0x7fdda1e01ec0>\nmsg delivered to txddata,[{2}],<cimpl.Message object at 0x7fdda1e01ec0>\nmsg delivered to txddata,[{2}],<cimpl.Message object at 0x7fdda1e01ec0>\nmsg delivered to txddata,[{0}],<cimpl.Message object at 0x7fdda1e01ec0>\nmsg delivered to txddata,[{3}],<cimpl.Message object at 0x7fdda1e01ec0>\nmsg delivered to txddata,[{3}],<cimpl.Message object at 0x7fdda1e01ec0>\nmsg delivered to txddata,[{4}],<cimpl.Message object at 0x7fdda1e01ec0>\nmsg delivered to txddata,[{0}],<cimpl.Message object at 0x7fdda1e01ec0>\nmsg delivered to txddata,[{1}],<cimpl.Message object at 0x7fdda1e01ec0>\nmsg delivered to txddata,[{1}],<cimpl.Message object at 0x7fdda1e01ec0>\nmsg delivered to txddata,[{4}],<cimpl.Message object at 0x7fdda1e01ec0>\nmsg delivered to txddata,[{1}],<cimpl.Message object at 0x7fdda1e01ec0>\nmsg delivered to txddata,[{4}],<cimpl.Message object at 0x7fdda1e01ec0>\nmsg delivered to txddata,[{1}],<cimpl.Message object at 0x7fdda1e01ec0>\nmsg delivered to txddata,[{4}],<cimpl.Message object at 0x7fdda1e01ec0>\nmsg delivered to txddata,[{1}],<cimpl.Message object at 0x7fdda1e01ec0>\nmsg delivered to txddata,[{2}],<cimpl.Message object at 0x7fdda1e01ec0>\nmsg delivered to txddata,[{1}],<cimpl.Message object at 0x7fdda1e01ec0>\nmsg delivered to txddata,[{4}],<cimpl.Message object at 0x7fdda1e01ec0>\nmsg delivered to txddata,[{4}],<cimpl.Message object at 0x7fdda1e01ec0>\nmsg delivered to txddata,[{3}],<cimpl.Message object at 0x7fdda1e01ec0>\nmsg delivered to txddata,[{0}],<cimpl.Message object at 0x7fdda1e01ec0>\nmsg delivered to txddata,[{5}],<cimpl.Message object at 0x7fdda1e01ec0>\nmsg delivered to txddata,[{4}],<cimpl.Message object at 0x7fdda1e01ec0>\nmsg delivered to txddata,[{5}],<cimpl.Message object at 0x7fdda1e01ec0>\nmsg delivered to txddata,[{1}],<cimpl.Message object at 0x7fdda1e01ec0>\nmsg delivered to txddata,[{5}],<cimpl.Message object at 0x7fdda1e01ec0>\nmsg delivered to txddata,[{1}],<cimpl.Message object at 0x7fdda1e01ec0>\nmsg delivered to txddata,[{3}],<cimpl.Message object at 0x7fdda1e01ec0>\n"
     ]
    }
   ],
   "source": [
    "producer = Producer(conf)\n",
    "def generate_transactions():\n",
    "    transaction = {\n",
    "        \"transaction_id\" : fake.uuid4(),\n",
    "        \"timestamp\":int(time.time()),\n",
    "        \"user_id\":random.randint(10000,99999),\n",
    "        \"amount\":round(random.uniform(5,5000),2),\n",
    "        \"transaction_type\":random.choice([\"purchase\",\"transfer\",\"withdrawal\"]),\n",
    "        \"location\":fake.city(),\n",
    "        \"mearchant\":fake.company(),\n",
    "        \"card_number\":fake.credit_card_number()\n",
    "    }\n",
    "    return transaction\n",
    "\n",
    "def delivery_report(err,msg):\n",
    "    if err is not None:\n",
    "        print(f\"message is not delivered: {err}\")\n",
    "    else:\n",
    "        print(f\"msg delivered to {msg.topic()},{[{msg.partition()}]},{msg}\")\n",
    "\n",
    "\n",
    "while True :\n",
    "    txn = generate_transactions()\n",
    "    producer.produce(\"txddata\",value = json.dumps(txn),key = str(txn['user_id']),callback = delivery_report)\n",
    "    producer.flush()\n",
    "    time.sleep(1)"
   ]
  },
  {
   "cell_type": "code",
   "execution_count": 0,
   "metadata": {
    "application/vnd.databricks.v1+cell": {
     "cellMetadata": {
      "byteLimit": 2048000,
      "rowLimit": 10000
     },
     "inputWidgets": {},
     "nuid": "45a38b5a-86bd-47b3-bca4-9b91afac032a",
     "showTitle": false,
     "tableResultSettingsMap": {},
     "title": ""
    }
   },
   "outputs": [
    {
     "output_type": "stream",
     "name": "stdout",
     "output_type": "stream",
     "text": [
      "Out[11]: {'transaction_id': '7ccee122-0ef9-4225-984a-af69aca90f57',\n 'timestamp': 1739006326,\n 'user_id': 67819,\n 'amount': 2723.24,\n 'transaction_type': 'purchase',\n 'location': 'Mitchellfort',\n 'mearchant': 'Gardner Ltd',\n 'card_number': '676339692854'}"
     ]
    }
   ],
   "source": [
    "generate_transactions()"
   ]
  },
  {
   "cell_type": "code",
   "execution_count": 0,
   "metadata": {
    "application/vnd.databricks.v1+cell": {
     "cellMetadata": {},
     "inputWidgets": {},
     "nuid": "d016ace8-d8ec-40ce-b9b8-d18450e1f316",
     "showTitle": false,
     "tableResultSettingsMap": {},
     "title": ""
    }
   },
   "outputs": [],
   "source": []
  }
 ],
 "metadata": {
  "application/vnd.databricks.v1+notebook": {
   "computePreferences": null,
   "dashboards": [],
   "environmentMetadata": {
    "base_environment": "",
    "client": "1"
   },
   "language": "python",
   "notebookMetadata": {
    "pythonIndentUnit": 4
   },
   "notebookName": "producer of fraud data",
   "widgets": {}
  }
 },
 "nbformat": 4,
 "nbformat_minor": 0
}
