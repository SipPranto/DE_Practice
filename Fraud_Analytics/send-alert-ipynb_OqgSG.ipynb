{
 "cells": [
  {
   "cell_type": "code",
   "execution_count": 0,
   "metadata": {
    "application/vnd.databricks.v1+cell": {
     "cellMetadata": {
      "byteLimit": 2048000,
      "rowLimit": 10000
     },
     "inputWidgets": {},
     "nuid": "0650cc6b-b27f-437a-80ef-78eb8779f18b",
     "showTitle": false,
     "tableResultSettingsMap": {},
     "title": ""
    }
   },
   "outputs": [],
   "source": [
    "import smtplib\n",
    "from email.mime.text import MIMEText"
   ]
  },
  {
   "cell_type": "code",
   "execution_count": 0,
   "metadata": {
    "application/vnd.databricks.v1+cell": {
     "cellMetadata": {
      "byteLimit": 2048000,
      "rowLimit": 10000
     },
     "inputWidgets": {},
     "nuid": "679c6f40-8a5d-4e65-b601-aa03936ec4b2",
     "showTitle": false,
     "tableResultSettingsMap": {},
     "title": ""
    }
   },
   "outputs": [
    {
     "output_type": "stream",
     "name": "stdout",
     "output_type": "stream",
     "text": [
      "testing mail sent succefully\n"
     ]
    }
   ],
   "source": [
    "SMTP_SERVER = \"smtp.gmail.com\"  # Using Gmail's SMTP server\n",
    "SMTP_PORT = 587\n",
    "EMAIL_SENDER = \"sskumar9876@gmail.com\"  # Replace with your email\n",
    "EMAIL_PASSWORD = \"krprnurloieozhlf\"  # Replace with your email app password\n",
    "EMAIL_RECEIVER = \"sudhanshu@euron.one\"  # Replace with recipient email\n",
    "\n",
    "# ✅ Email Body\n",
    "subject = \"🚀 Test Email: Fraud Alert System\"\n",
    "body = \"This is a test email to verify if SMTP works.\"\n",
    "\n",
    "msg = MIMEText(body, \"plain\")\n",
    "msg[\"Subject\"] = subject\n",
    "msg[\"From\"] = EMAIL_SENDER\n",
    "msg[\"To\"] = EMAIL_RECEIVER\n",
    "\n",
    "try :\n",
    "    server = smtplib.SMTP(SMTP_SERVER,SMTP_PORT)\n",
    "    server.starttls()\n",
    "    server.login(EMAIL_SENDER,EMAIL_PASSWORD)\n",
    "    server.sendmail(EMAIL_SENDER,EMAIL_RECEIVER,msg.as_string())\n",
    "    server.quit()\n",
    "    print(\"testing mail sent succefully\")\n",
    "except Exception as e :\n",
    "    print(e)"
   ]
  },
  {
   "cell_type": "code",
   "execution_count": 0,
   "metadata": {
    "application/vnd.databricks.v1+cell": {
     "cellMetadata": {},
     "inputWidgets": {},
     "nuid": "1caf44d3-af36-4756-8fd1-969e7e58a917",
     "showTitle": false,
     "tableResultSettingsMap": {},
     "title": ""
    }
   },
   "outputs": [],
   "source": []
  }
 ],
 "metadata": {
  "application/vnd.databricks.v1+notebook": {
   "computePreferences": null,
   "dashboards": [],
   "environmentMetadata": {
    "base_environment": "",
    "client": "1"
   },
   "language": "python",
   "notebookMetadata": {
    "pythonIndentUnit": 4
   },
   "notebookName": "send alert",
   "widgets": {}
  }
 },
 "nbformat": 4,
 "nbformat_minor": 0
}
